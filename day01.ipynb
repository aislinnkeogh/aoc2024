{
 "cells": [
  {
   "cell_type": "code",
   "execution_count": 3,
   "id": "486bb5a4-993c-4561-99d4-d608c14fbc35",
   "metadata": {},
   "outputs": [],
   "source": [
    "from collections import Counter"
   ]
  },
  {
   "cell_type": "code",
   "execution_count": 14,
   "id": "1cf8dfb4-9b1b-447f-9e23-00cd6bcd2e1f",
   "metadata": {},
   "outputs": [],
   "source": [
    "with open('input/day01.txt') as f:\n",
    "    lines = [line.rstrip(\"\\n\").split() for line in f.readlines()]"
   ]
  },
  {
   "cell_type": "markdown",
   "id": "c782902c-9983-4ec4-99aa-d1e734540262",
   "metadata": {},
   "source": [
    "## Part 1"
   ]
  },
  {
   "cell_type": "code",
   "execution_count": 25,
   "id": "550e1d98-98b3-4ff6-9440-ac1c0e1f9fe2",
   "metadata": {},
   "outputs": [],
   "source": [
    "list1 = [int(line[0]) for line in lines]\n",
    "list2 = [int(line[1]) for line in lines]"
   ]
  },
  {
   "cell_type": "code",
   "execution_count": 26,
   "id": "dfc5fd48-e641-4c6b-8e80-29eef71875cb",
   "metadata": {},
   "outputs": [],
   "source": [
    "list1.sort()\n",
    "list2.sort()"
   ]
  },
  {
   "cell_type": "code",
   "execution_count": 27,
   "id": "8651f9f8-bb54-4e0e-8cc2-1b109b59d17a",
   "metadata": {},
   "outputs": [],
   "source": [
    "diffs = [abs(list1[i] - list2[i]) for i in range(len(list1))]"
   ]
  },
  {
   "cell_type": "code",
   "execution_count": 16,
   "id": "8195f608-963c-4ff7-93cc-5aa734908994",
   "metadata": {},
   "outputs": [
    {
     "data": {
      "text/plain": [
       "3574690"
      ]
     },
     "execution_count": 16,
     "metadata": {},
     "output_type": "execute_result"
    }
   ],
   "source": [
    "sum(diffs)"
   ]
  },
  {
   "cell_type": "markdown",
   "id": "e85f03e7-8bed-49bd-988c-fd63e51ca035",
   "metadata": {},
   "source": [
    "## Part 2"
   ]
  },
  {
   "cell_type": "code",
   "execution_count": 21,
   "id": "baf8d7aa-aff2-428a-8355-77469c4c7097",
   "metadata": {},
   "outputs": [],
   "source": [
    "similarity_score = 0\n",
    "list2_counter = Counter(list2)\n",
    "for val in list1:\n",
    "    similarity_score += val * list2_counter[val]"
   ]
  },
  {
   "cell_type": "code",
   "execution_count": 22,
   "id": "9662ff23-6a1e-4224-92d9-2154b14040fe",
   "metadata": {},
   "outputs": [
    {
     "data": {
      "text/plain": [
       "22565391"
      ]
     },
     "execution_count": 22,
     "metadata": {},
     "output_type": "execute_result"
    }
   ],
   "source": [
    "similarity_score"
   ]
  }
 ],
 "metadata": {
  "kernelspec": {
   "display_name": "Python 3 (ipykernel)",
   "language": "python",
   "name": "python3"
  },
  "language_info": {
   "codemirror_mode": {
    "name": "ipython",
    "version": 3
   },
   "file_extension": ".py",
   "mimetype": "text/x-python",
   "name": "python",
   "nbconvert_exporter": "python",
   "pygments_lexer": "ipython3",
   "version": "3.11.7"
  }
 },
 "nbformat": 4,
 "nbformat_minor": 5
}
