{
 "cells": [
  {
   "cell_type": "code",
   "execution_count": 71,
   "id": "84db7358-6cf5-46b8-acae-ec5f02e9b6b7",
   "metadata": {},
   "outputs": [],
   "source": [
    "with open('../input/day02.txt') as f:\n",
    "    lines = [[int(val) for val in line.rstrip(\"\\n\").split()] for line in f.readlines()]"
   ]
  },
  {
   "cell_type": "code",
   "execution_count": 81,
   "id": "410b19d9-204e-4bcb-904c-cad29c412c09",
   "metadata": {},
   "outputs": [],
   "source": [
    "def is_safe(report):\n",
    "    if sorted(report)==report or sorted(report, reverse=True)==report:\n",
    "        safe = True\n",
    "        for i in range(len(report)-1):\n",
    "            diff = abs(report[i] - report[i+1])\n",
    "            if not (diff >= 1 and diff < 4):\n",
    "                safe = False\n",
    "                break\n",
    "        if safe:\n",
    "            return True\n",
    "    return False"
   ]
  },
  {
   "cell_type": "markdown",
   "id": "7aca45b7-4dcb-411b-902f-d9f8c9c914f8",
   "metadata": {},
   "source": [
    "## Part 1"
   ]
  },
  {
   "cell_type": "code",
   "execution_count": 86,
   "id": "50a5ecb7-a0aa-45a0-8223-bb5b1b4225fd",
   "metadata": {},
   "outputs": [],
   "source": [
    "safe_reports_p1 = 0\n",
    "for report in lines:\n",
    "    if is_safe(report):\n",
    "        safe_reports_p1 += 1"
   ]
  },
  {
   "cell_type": "code",
   "execution_count": 87,
   "id": "c9b87e04-e343-4a75-9437-c15743ea56f4",
   "metadata": {},
   "outputs": [
    {
     "data": {
      "text/plain": [
       "371"
      ]
     },
     "execution_count": 87,
     "metadata": {},
     "output_type": "execute_result"
    }
   ],
   "source": [
    "safe_reports_p1"
   ]
  },
  {
   "cell_type": "markdown",
   "id": "3e13ee2e-1d9e-4f42-8e85-d8eac8644010",
   "metadata": {},
   "source": [
    "## Part 2"
   ]
  },
  {
   "cell_type": "code",
   "execution_count": 91,
   "id": "676a9a65-9f3e-45f4-bc92-2e0a173758b0",
   "metadata": {},
   "outputs": [],
   "source": [
    "safe_reports_p2 = 0\n",
    "for report in lines:\n",
    "    if is_safe(report):\n",
    "        safe_reports_p2 += 1\n",
    "    else:\n",
    "        for i in range(len(report)):\n",
    "            new_report = report[:i] + report[i+1:]\n",
    "            if is_safe(new_report):\n",
    "                safe_reports_p2 += 1\n",
    "                break"
   ]
  },
  {
   "cell_type": "code",
   "execution_count": 92,
   "id": "76ea001c-ba9f-4482-b6eb-5befc53c01b7",
   "metadata": {},
   "outputs": [
    {
     "data": {
      "text/plain": [
       "426"
      ]
     },
     "execution_count": 92,
     "metadata": {},
     "output_type": "execute_result"
    }
   ],
   "source": [
    "safe_reports_p2"
   ]
  }
 ],
 "metadata": {
  "kernelspec": {
   "display_name": "Python 3 (ipykernel)",
   "language": "python",
   "name": "python3"
  },
  "language_info": {
   "codemirror_mode": {
    "name": "ipython",
    "version": 3
   },
   "file_extension": ".py",
   "mimetype": "text/x-python",
   "name": "python",
   "nbconvert_exporter": "python",
   "pygments_lexer": "ipython3",
   "version": "3.11.7"
  }
 },
 "nbformat": 4,
 "nbformat_minor": 5
}
