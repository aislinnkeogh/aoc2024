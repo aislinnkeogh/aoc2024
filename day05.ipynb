{
 "cells": [
  {
   "cell_type": "code",
   "execution_count": 126,
   "id": "8425a616-b951-4c50-9692-f39c1e9a229a",
   "metadata": {},
   "outputs": [],
   "source": [
    "from itertools import combinations\n",
    "from functools import cmp_to_key"
   ]
  },
  {
   "cell_type": "code",
   "execution_count": 127,
   "id": "8541e36d-40a2-4a25-b028-3205493f2115",
   "metadata": {},
   "outputs": [],
   "source": [
    "with open(\"input/day05.txt\") as f:\n",
    "    lines = [line.rstrip(\"\\n\").strip() for line in f.readlines()]"
   ]
  },
  {
   "cell_type": "code",
   "execution_count": 128,
   "id": "a85c8231-5e09-4bec-b874-9987f7f3df2d",
   "metadata": {},
   "outputs": [],
   "source": [
    "changepoint = lines.index(\"\")\n",
    "rules = [tuple(int(val) for val in line.split(\"|\")) for line in lines[:changepoint]]\n",
    "updates = [[int(val) for val in line.split(\",\")] for line in lines[changepoint+1:]]"
   ]
  },
  {
   "cell_type": "markdown",
   "id": "9622de53-cbdd-48f8-ae1b-81c1b69a3ab3",
   "metadata": {},
   "source": [
    "## Part 1"
   ]
  },
  {
   "cell_type": "code",
   "execution_count": 129,
   "id": "d0ac22b4-2d22-4366-8f76-b19726e760aa",
   "metadata": {},
   "outputs": [],
   "source": [
    "incorrect_updates = []\n",
    "middle_pages_p1 = 0\n",
    "for update in updates:\n",
    "    pairs = set(combinations(update[::-1], 2))\n",
    "    relevant_rules = [rule for rule in rules if set(rule).issubset(set(update))]\n",
    "    if not any(pair in relevant_rules for pair in pairs):\n",
    "        middle_pages_p1 += update[len(update)//2]\n",
    "    else:\n",
    "        incorrect_updates.append(update)"
   ]
  },
  {
   "cell_type": "code",
   "execution_count": 130,
   "id": "72c6b1c3-f656-42c4-82e3-7e76cdc200fe",
   "metadata": {},
   "outputs": [
    {
     "data": {
      "text/plain": [
       "4662"
      ]
     },
     "execution_count": 130,
     "metadata": {},
     "output_type": "execute_result"
    }
   ],
   "source": [
    "middle_pages_p1"
   ]
  },
  {
   "cell_type": "markdown",
   "id": "0be5abf9-9430-41a2-bc3d-beb135bb4ac1",
   "metadata": {},
   "source": [
    "## Part 2"
   ]
  },
  {
   "cell_type": "code",
   "execution_count": 131,
   "id": "78e7ae26-5648-4d6b-be83-638b3ffdcf88",
   "metadata": {},
   "outputs": [],
   "source": [
    "def sort_pair(a, b):\n",
    "    if (a, b) in rules:\n",
    "        return -1\n",
    "    elif (b, a) in rules:\n",
    "        return 1\n",
    "    else:\n",
    "        return 0"
   ]
  },
  {
   "cell_type": "code",
   "execution_count": 132,
   "id": "c7922b06-0524-43c1-8d43-4ca942fd954a",
   "metadata": {},
   "outputs": [],
   "source": [
    "middle_pages_p2 = 0\n",
    "for update in incorrect_updates:\n",
    "    sorted_update = sorted(update, key=cmp_to_key(sort_pair))\n",
    "    middle_pages_p2 += sorted_update[len(sorted_update)//2]"
   ]
  },
  {
   "cell_type": "code",
   "execution_count": 133,
   "id": "b995ece5-9b15-41e1-a72d-a35d5fa3da2d",
   "metadata": {},
   "outputs": [
    {
     "data": {
      "text/plain": [
       "5900"
      ]
     },
     "execution_count": 133,
     "metadata": {},
     "output_type": "execute_result"
    }
   ],
   "source": [
    "middle_pages_p2"
   ]
  }
 ],
 "metadata": {
  "kernelspec": {
   "display_name": "Python 3 (ipykernel)",
   "language": "python",
   "name": "python3"
  },
  "language_info": {
   "codemirror_mode": {
    "name": "ipython",
    "version": 3
   },
   "file_extension": ".py",
   "mimetype": "text/x-python",
   "name": "python",
   "nbconvert_exporter": "python",
   "pygments_lexer": "ipython3",
   "version": "3.11.7"
  }
 },
 "nbformat": 4,
 "nbformat_minor": 5
}
