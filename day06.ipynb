{
 "cells": [
  {
   "cell_type": "code",
   "execution_count": 205,
   "id": "d490bd7f-f2d8-4c6c-83e5-9e6cf7167535",
   "metadata": {},
   "outputs": [],
   "source": [
    "import numpy as np"
   ]
  },
  {
   "cell_type": "code",
   "execution_count": 206,
   "id": "321b8e6f-39dd-4f7b-bd2b-ce5435006992",
   "metadata": {},
   "outputs": [],
   "source": [
    "with open(\"input/day06.txt\") as f:\n",
    "    lab_map = np.array([list(line.rstrip(\"\\n\")) for line in f.readlines()])"
   ]
  },
  {
   "cell_type": "markdown",
   "id": "d3616dff-1452-4d09-a8a7-fd53107e0d65",
   "metadata": {},
   "source": [
    "## Part 1"
   ]
  },
  {
   "cell_type": "code",
   "execution_count": 207,
   "id": "fee1c5cd-b1dc-406c-abf8-e66a6d7e0712",
   "metadata": {},
   "outputs": [],
   "source": [
    "def change_direction(lab_map):\n",
    "    return np.flipud(lab_map.T)"
   ]
  },
  {
   "cell_type": "code",
   "execution_count": 208,
   "id": "d820df7d-1187-4d86-b7a3-6a3ea00353ca",
   "metadata": {},
   "outputs": [],
   "source": [
    "def find_new_coords(current_coords, lab_map):\n",
    "    i = lab_map.shape[1] - 1 - current_coords[1]\n",
    "    j = current_coords[0]\n",
    "    return (i, j)"
   ]
  },
  {
   "cell_type": "code",
   "execution_count": 209,
   "id": "eda61d7c-e7d5-4bdd-9f43-3251c1df4f0e",
   "metadata": {},
   "outputs": [],
   "source": [
    "start_position = np.where(lab_map==\"^\")\n",
    "next_position = (start_position[0][0], start_position[1][0])\n",
    "exit = False\n",
    "while not exit:\n",
    "    lab_map[next_position[0], next_position[1]] = \"X\" # mark our current position\n",
    "    if (next_position[0]-1) < 0: # make sure we don't loop around: if we've got a negative index, it means we've reached an edge\n",
    "        exit = True\n",
    "    else:\n",
    "        if lab_map[next_position[0]-1, next_position[1]]==\"#\": # check if the next position contains an obstacle\n",
    "            lab_map = change_direction(lab_map) # if so, rotate the lab_map left before continuing\n",
    "            next_position = find_new_coords(next_position, lab_map) # and then find our new grid reference\n",
    "        next_position = (next_position[0]-1, next_position[1]) # and finally determine our next position to check: since we're rotating the lab_map, we always stay in the same column and just go up one row"
   ]
  },
  {
   "cell_type": "code",
   "execution_count": 210,
   "id": "846fc906-9c74-4430-bdb3-0a3ba1c48e53",
   "metadata": {},
   "outputs": [
    {
     "data": {
      "text/plain": [
       "4374"
      ]
     },
     "execution_count": 210,
     "metadata": {},
     "output_type": "execute_result"
    }
   ],
   "source": [
    "np.count_nonzero(lab_map==\"X\")"
   ]
  },
  {
   "cell_type": "markdown",
   "id": "7b151f38-2663-41d3-a347-5d1c58f90abf",
   "metadata": {},
   "source": [
    "## Part 2\n",
    "\n",
    "Fuck that. Let's try again tomorrow."
   ]
  }
 ],
 "metadata": {
  "kernelspec": {
   "display_name": "Python 3 (ipykernel)",
   "language": "python",
   "name": "python3"
  },
  "language_info": {
   "codemirror_mode": {
    "name": "ipython",
    "version": 3
   },
   "file_extension": ".py",
   "mimetype": "text/x-python",
   "name": "python",
   "nbconvert_exporter": "python",
   "pygments_lexer": "ipython3",
   "version": "3.11.7"
  }
 },
 "nbformat": 4,
 "nbformat_minor": 5
}
