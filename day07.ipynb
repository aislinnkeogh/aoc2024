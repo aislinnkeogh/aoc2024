{
 "cells": [
  {
   "cell_type": "code",
   "execution_count": 44,
   "id": "748a8141-28a6-47e7-b625-20d2d0129c7d",
   "metadata": {},
   "outputs": [],
   "source": [
    "from itertools import product"
   ]
  },
  {
   "cell_type": "code",
   "execution_count": 45,
   "id": "1f79eae7-c1c5-42aa-9b98-53f639961cc6",
   "metadata": {},
   "outputs": [],
   "source": [
    "calibrations = []\n",
    "with open(\"input/day07.txt\") as f:\n",
    "    for line in f:\n",
    "        equation = line.rstrip(\"\\n\").split(\":\")\n",
    "        calibrations.append((int(equation[0]), [int(val) for val in equation[1].split()]))"
   ]
  },
  {
   "cell_type": "code",
   "execution_count": 46,
   "id": "966e4cff-b0dd-4233-87e9-dd6d8bca3dee",
   "metadata": {},
   "outputs": [],
   "source": [
    "def can_produce(test_value, numbers, operators):\n",
    "    possible_operations = product(operators, repeat=len(numbers)-1)\n",
    "    for operation in possible_operations:\n",
    "        running_total = numbers[0]\n",
    "        for i, number in enumerate(numbers[1:]):\n",
    "            if running_total > test_value:\n",
    "                break\n",
    "            match operation[i]:\n",
    "                case \"add\":\n",
    "                    running_total += number\n",
    "                case \"mult\":\n",
    "                    running_total *= number\n",
    "                case \"concat\":\n",
    "                    running_total = int(str(running_total) + str(number))\n",
    "        if running_total == test_value:\n",
    "            return True\n",
    "    return False"
   ]
  },
  {
   "cell_type": "code",
   "execution_count": 47,
   "id": "7d0807bd-9f51-42b3-ad0f-c88f3de68337",
   "metadata": {},
   "outputs": [],
   "source": [
    "result_p1 = 0\n",
    "successes = []\n",
    "for test_value, numbers in calibrations:\n",
    "    if can_produce(test_value, numbers, [\"add\", \"mult\"]):\n",
    "        successes.append((test_value, numbers))\n",
    "        result_p1 += test_value"
   ]
  },
  {
   "cell_type": "code",
   "execution_count": 48,
   "id": "b62e640d-e071-4e36-8595-3595e6f5336a",
   "metadata": {},
   "outputs": [
    {
     "data": {
      "text/plain": [
       "2664460013123"
      ]
     },
     "execution_count": 48,
     "metadata": {},
     "output_type": "execute_result"
    }
   ],
   "source": [
    "result_p1"
   ]
  },
  {
   "cell_type": "code",
   "execution_count": 55,
   "id": "5ca25e5d-ab79-45b7-b838-714f6a46e5fd",
   "metadata": {},
   "outputs": [
    {
     "name": "stdout",
     "output_type": "stream",
     "text": [
      "12.6 s ± 111 ms per loop (mean ± std. dev. of 7 runs, 1 loop each)\n"
     ]
    }
   ],
   "source": [
    "result_p2 = 0\n",
    "for test_value, numbers in calibrations:\n",
    "    if (test_value, numbers) in successes:\n",
    "        result_p2 += test_value\n",
    "        continue\n",
    "    if can_produce(test_value, numbers, [\"add\", \"mult\", \"concat\"]):\n",
    "        result_p2 += test_value"
   ]
  },
  {
   "cell_type": "code",
   "execution_count": 54,
   "id": "e98e9076-1872-4dcd-b96c-6d36cb6d6767",
   "metadata": {},
   "outputs": [
    {
     "data": {
      "text/plain": [
       "426214131924213"
      ]
     },
     "execution_count": 54,
     "metadata": {},
     "output_type": "execute_result"
    }
   ],
   "source": [
    "result_p2"
   ]
  }
 ],
 "metadata": {
  "kernelspec": {
   "display_name": "Python 3 (ipykernel)",
   "language": "python",
   "name": "python3"
  },
  "language_info": {
   "codemirror_mode": {
    "name": "ipython",
    "version": 3
   },
   "file_extension": ".py",
   "mimetype": "text/x-python",
   "name": "python",
   "nbconvert_exporter": "python",
   "pygments_lexer": "ipython3",
   "version": "3.11.7"
  }
 },
 "nbformat": 4,
 "nbformat_minor": 5
}
