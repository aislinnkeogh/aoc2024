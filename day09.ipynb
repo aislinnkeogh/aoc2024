{
 "cells": [
  {
   "cell_type": "code",
   "execution_count": 62,
   "id": "7b557e0f-464f-4837-aaf1-f5dcf2e0b65a",
   "metadata": {},
   "outputs": [],
   "source": [
    "import copy"
   ]
  },
  {
   "cell_type": "code",
   "execution_count": 92,
   "id": "c19664b8-f8da-4859-99f9-d7cd552ec150",
   "metadata": {},
   "outputs": [],
   "source": [
    "with open(\"input/day09.txt\") as f:\n",
    "    input = list(map(int, f.read().rstrip(\"\\n\")))"
   ]
  },
  {
   "cell_type": "code",
   "execution_count": 79,
   "id": "4658901b-6ec7-4972-949a-ce5c7e062c07",
   "metadata": {},
   "outputs": [],
   "source": [
    "disk_map = []\n",
    "for i, length in enumerate(input):\n",
    "    if i % 2 == 0: # if we're on an even numbered index, it's a file block\n",
    "        for _ in range(length):\n",
    "            disk_map.append(int(i/2))\n",
    "    else: # if we're on an odd numbered index, it's free space\n",
    "        for _ in range(length):\n",
    "            disk_map.append(\".\")"
   ]
  },
  {
   "cell_type": "markdown",
   "id": "fcffe3fa-e890-4565-ad71-cfa5faeca32e",
   "metadata": {},
   "source": [
    "## Part 1"
   ]
  },
  {
   "cell_type": "code",
   "execution_count": 80,
   "id": "502bdc09-8caf-42be-bd2c-9dc0692799cd",
   "metadata": {},
   "outputs": [
    {
     "name": "stdout",
     "output_type": "stream",
     "text": [
      "CPU times: total: 3min 51s\n",
      "Wall time: 10min 46s\n"
     ]
    }
   ],
   "source": [
    "%%time\n",
    "compacted = copy.deepcopy(disk_map)\n",
    "finished = False\n",
    "\n",
    "for i, char in enumerate(compacted):\n",
    "    if char == \".\":\n",
    "        for j, val in reversed(list(enumerate(compacted))):\n",
    "            if val != \".\":\n",
    "                if j > i:\n",
    "                    file_to_move = (j, val)\n",
    "                    break\n",
    "                else:\n",
    "                    finished = True\n",
    "        if not finished:\n",
    "            compacted[i] = file_to_move[1]\n",
    "            compacted[file_to_move[0]] = \".\"\n",
    "        else:\n",
    "            break"
   ]
  },
  {
   "cell_type": "code",
   "execution_count": 88,
   "id": "8876ade4-6844-4104-a26b-aa97f0a4357f",
   "metadata": {},
   "outputs": [],
   "source": [
    "checksum_p1 = 0\n",
    "for i, val in enumerate(compacted):\n",
    "    if val==\".\":\n",
    "        break\n",
    "    else:\n",
    "        checksum_p1 += i * val"
   ]
  },
  {
   "cell_type": "code",
   "execution_count": 89,
   "id": "dd2cce01-c0fc-4546-a2c2-ad778d43d1fb",
   "metadata": {},
   "outputs": [
    {
     "data": {
      "text/plain": [
       "6398608069280"
      ]
     },
     "execution_count": 89,
     "metadata": {},
     "output_type": "execute_result"
    }
   ],
   "source": [
    "checksum_p1"
   ]
  },
  {
   "cell_type": "markdown",
   "id": "04ad1077-7cee-4a33-b589-8d6e5394e0e1",
   "metadata": {},
   "source": [
    "## Part 2\n",
    "\n",
    "Nope. Hard pass."
   ]
  }
 ],
 "metadata": {
  "kernelspec": {
   "display_name": "Python 3 (ipykernel)",
   "language": "python",
   "name": "python3"
  },
  "language_info": {
   "codemirror_mode": {
    "name": "ipython",
    "version": 3
   },
   "file_extension": ".py",
   "mimetype": "text/x-python",
   "name": "python",
   "nbconvert_exporter": "python",
   "pygments_lexer": "ipython3",
   "version": "3.11.7"
  }
 },
 "nbformat": 4,
 "nbformat_minor": 5
}
