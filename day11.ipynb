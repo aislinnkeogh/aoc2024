{
 "cells": [
  {
   "cell_type": "code",
   "execution_count": 22,
   "id": "b5ee8150-ff49-4c72-955c-f55e4d9a5b16",
   "metadata": {},
   "outputs": [],
   "source": [
    "# from functools import lru_cache\n",
    "from collections import Counter"
   ]
  },
  {
   "cell_type": "code",
   "execution_count": 23,
   "id": "5f14cd81-79a4-44f5-8c45-dea9eb7072c3",
   "metadata": {},
   "outputs": [],
   "source": [
    "with open(\"input/day11.txt\") as f:\n",
    "    initial_arrangement = list(map(int, f.read().rstrip(\"\\n\").split()))"
   ]
  },
  {
   "cell_type": "markdown",
   "id": "1fa1b02e-87cd-4c13-ba85-a68b301cd3e8",
   "metadata": {},
   "source": [
    "## Part 1"
   ]
  },
  {
   "cell_type": "code",
   "execution_count": 39,
   "id": "b93814a3-ad2d-47ed-b67a-8559c905c348",
   "metadata": {},
   "outputs": [],
   "source": [
    "# Recursive function which works for Part 1 but fails with MemoryError for Part 2\n",
    "# Memoization doesn't work because the function works on a full list of numbers rather than on a single number\n",
    "# @lru_cache(maxsize=100)\n",
    "def blink_recursive(initial_arrangement, times):\n",
    "    if times==0:\n",
    "        return initial_arrangement\n",
    "    else:\n",
    "        new_arrangement = []\n",
    "        for stone in initial_arrangement:\n",
    "            if stone==0:\n",
    "                new_arrangement.append(1)\n",
    "            elif len(str(stone))%2==0:\n",
    "                string = str(stone)\n",
    "                left, right = string[:len(string)//2], string[len(string)//2:]\n",
    "                new_arrangement.extend([int(left), int(right)])\n",
    "            else:\n",
    "                new_arrangement.append(stone * 2024)\n",
    "        return blink(new_arrangement, times-1)"
   ]
  },
  {
   "cell_type": "code",
   "execution_count": 40,
   "id": "d9111c08-f9ea-464a-bec4-c3c0079c1a85",
   "metadata": {},
   "outputs": [],
   "source": [
    "p1_outcome = blink_recursive(initial_arrangement, 25)"
   ]
  },
  {
   "cell_type": "code",
   "execution_count": 41,
   "id": "f90b47ec-2677-4e3d-ba31-9bc6de006f93",
   "metadata": {},
   "outputs": [
    {
     "data": {
      "text/plain": [
       "239714"
      ]
     },
     "execution_count": 41,
     "metadata": {},
     "output_type": "execute_result"
    }
   ],
   "source": [
    "len(p1_outcome)"
   ]
  },
  {
   "cell_type": "markdown",
   "id": "fecef2cd-a2ae-4a39-a32d-aeccd0fb92ca",
   "metadata": {},
   "source": [
    "## Part 2"
   ]
  },
  {
   "cell_type": "code",
   "execution_count": 36,
   "id": "e8b97bfc-5416-48cb-945a-f4790c607519",
   "metadata": {},
   "outputs": [],
   "source": [
    "# Function which uses a Counter for unique stone engravings rather than building the whole list: works for Part 2 and is also muuuuuch faster for Part 1\n",
    "def blink_counter(counter, times):\n",
    "    for _ in range(times):\n",
    "        new_counter = dict(counter)\n",
    "        for stone, count in new_counter.items():\n",
    "            if count==0: # if there's none of this number in the current arrangement, no need to do anything with it\n",
    "                continue\n",
    "            # we always need to move the count away from the current stone to its new value\n",
    "            if stone==0: # all stones engraved with 0 go to 1\n",
    "                counter[1] += count\n",
    "                counter[stone] -= count\n",
    "            elif len(str(stone))%2==0: # stones with an even number of digits split into two, so the count moves to both of the numbers that result from that split\n",
    "                string = str(stone)\n",
    "                left, right = int(string[:len(string)//2]), int(string[len(string)//2:])\n",
    "                counter[left] += count\n",
    "                counter[right] += count\n",
    "                counter[stone] -= count\n",
    "            else:\n",
    "                counter[stone * 2024] += count\n",
    "                counter[stone] -= count\n",
    "    return counter"
   ]
  },
  {
   "cell_type": "code",
   "execution_count": 28,
   "id": "64899f11-4721-454f-9eab-9ff7e125cbd7",
   "metadata": {},
   "outputs": [],
   "source": [
    "p2_outcome = blink_counter(Counter(p1_outcome), 50)"
   ]
  },
  {
   "cell_type": "code",
   "execution_count": 29,
   "id": "e223cadd-eac9-40c6-9e4f-7a4cc225e76f",
   "metadata": {},
   "outputs": [
    {
     "data": {
      "text/plain": [
       "284973560658514"
      ]
     },
     "execution_count": 29,
     "metadata": {},
     "output_type": "execute_result"
    }
   ],
   "source": [
    "sum(p2_outcome.values())"
   ]
  }
 ],
 "metadata": {
  "kernelspec": {
   "display_name": "Python 3 (ipykernel)",
   "language": "python",
   "name": "python3"
  },
  "language_info": {
   "codemirror_mode": {
    "name": "ipython",
    "version": 3
   },
   "file_extension": ".py",
   "mimetype": "text/x-python",
   "name": "python",
   "nbconvert_exporter": "python",
   "pygments_lexer": "ipython3",
   "version": "3.11.7"
  }
 },
 "nbformat": 4,
 "nbformat_minor": 5
}
